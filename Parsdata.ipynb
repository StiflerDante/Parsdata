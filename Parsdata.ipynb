{
 "cells": [
  {
   "cell_type": "code",
   "execution_count": null,
   "id": "aa8458c7",
   "metadata": {},
   "outputs": [],
   "source": [
    "import csv\n",
    "import lxml\n",
    "import fake_useragent\n",
    "from fake_useragent import UserAgent\n",
    "import bs4\n",
    "from bs4 import BeautifulSoup\n",
    "import requests\n",
    "import numpy as np\n",
    "\n"
   ]
  },
  {
   "cell_type": "code",
   "execution_count": null,
   "id": "87429bf8",
   "metadata": {},
   "outputs": [],
   "source": [
    "with open(\"res.csv\", \"w\", encoding = \"utf-8-sig\", newline=\"\") as file:\n",
    "    writer= csv.writer(file, delimiter = \";\")\n",
    "    writer.writerow([\"Наименование\", \"Бренд\", \"Форм-фактор\",\"Ёмкость\",\n",
    "                     \"Объём буф. памяти\", \"Цена\"])\n",
    "#Пагинация"
   ]
  },
  {
   "cell_type": "code",
   "execution_count": null,
   "id": "ba0f161d",
   "metadata": {},
   "outputs": [],
   "source": [
    "ua = UserAgent()\n",
    "\n",
    "headers = {\"user-agent\":ua.random}\n",
    "\n",
    "responsep = requests.get(url= \"https://parsinger.ru/html/index4_page_1.html\", headers=headers, timeout = 40)\n",
    "responsep.encoding=\"utf-8\"\n",
    "soupp = BeautifulSoup(responsep.text, \"lxml\")\n",
    "pagen = [l[\"href\"] for l in soupp.find(\"div\", class_=\"pagen\").find_all(\"a\")]"
   ]
  },
  {
   "cell_type": "code",
   "execution_count": null,
   "id": "6ebb789f",
   "metadata": {},
   "outputs": [],
   "source": [
    "name = list()\n",
    "brand = list()\n",
    "price = list()\n",
    "for i in range(len(pagen)):\n",
    "    response = requests.get(url = f\"https://parsinger.ru/html/{pagen[i]}\")\n",
    "    response.encoding= \"utf-8\"\n",
    "    soup1= BeautifulSoup(response.text, \"lxml\")\n",
    "    name.append([x.text.strip() for x in soup1.find_all(\"a\", class_=\"name_item\")])\n",
    "    brand.append([str(x).replace(\"</li>\", \"\").replace(\"<li>Бренд: \", \"\").replace(\"<li>Форм-фактор: \", \"\").replace(\"<li>Ёмкость: \", \"\").replace(\"<li>Объем буферной памяти: \", \"\").replace(\"<li>Объем буферной памяти:\", \"\") for x in soup1.find_all(\"li\")])\n",
    "    price.append([str(x).replace('<p class=\"price\">', \"\").replace(\"</p>\", \"\") for x in soup1.find_all(\"p\", \"price\")])\n",
    "finalname = list() #Наименования"
   ]
  },
  {
   "cell_type": "code",
   "execution_count": 1,
   "id": "42896279",
   "metadata": {},
   "outputs": [
    {
     "ename": "NameError",
     "evalue": "name 'name' is not defined",
     "output_type": "error",
     "traceback": [
      "\u001b[1;31m---------------------------------------------------------------------------\u001b[0m",
      "\u001b[1;31mNameError\u001b[0m                                 Traceback (most recent call last)",
      "Input \u001b[1;32mIn [1]\u001b[0m, in \u001b[0;36m<cell line: 1>\u001b[1;34m()\u001b[0m\n\u001b[1;32m----> 1\u001b[0m \u001b[38;5;28;01mfor\u001b[39;00m i \u001b[38;5;129;01min\u001b[39;00m \u001b[38;5;28mrange\u001b[39m(\u001b[38;5;28mlen\u001b[39m(\u001b[43mname\u001b[49m)):\n\u001b[0;32m      2\u001b[0m     \u001b[38;5;28;01mfor\u001b[39;00m j \u001b[38;5;129;01min\u001b[39;00m \u001b[38;5;28mrange\u001b[39m(\u001b[38;5;28mlen\u001b[39m(name[i])):\n\u001b[0;32m      3\u001b[0m         finalname\u001b[38;5;241m.\u001b[39mappend(name[i][j])\n",
      "\u001b[1;31mNameError\u001b[0m: name 'name' is not defined"
     ]
    }
   ],
   "source": [
    "\n",
    "for i in range(len(name)):\n",
    "    for j in range(len(name[i])):\n",
    "        finalname.append(name[i][j])\n",
    "\n",
    "price = np.array(price).reshape(-1)\n",
    "br = np.array(brand)\n",
    "final = br.reshape(32,4).tolist()\n",
    "for i in range(len(final)):\n",
    "    final[i].insert(0, finalname[i])\n",
    "    final[i].append(price[i])"
   ]
  },
  {
   "cell_type": "code",
   "execution_count": null,
   "id": "dc90fc37",
   "metadata": {},
   "outputs": [],
   "source": [
    "\n",
    "with open(\"res.csv\", \"a\", encoding = \"utf-8-sig\", newline=\"\") as file:\n",
    "    writer = csv.writer(file, delimiter=\";\")\n",
    "    writer.writerows(final)"
   ]
  }
 ],
 "metadata": {
  "kernelspec": {
   "display_name": "Python 3 (ipykernel)",
   "language": "python",
   "name": "python3"
  },
  "language_info": {
   "codemirror_mode": {
    "name": "ipython",
    "version": 3
   },
   "file_extension": ".py",
   "mimetype": "text/x-python",
   "name": "python",
   "nbconvert_exporter": "python",
   "pygments_lexer": "ipython3",
   "version": "3.9.12"
  }
 },
 "nbformat": 4,
 "nbformat_minor": 5
}
